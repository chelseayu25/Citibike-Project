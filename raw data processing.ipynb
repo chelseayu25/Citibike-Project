{
 "cells": [
  {
   "cell_type": "markdown",
   "metadata": {
    "collapsed": true
   },
   "source": [
    "# Part1: Pre-processing\n",
    "\n",
    "#### This part is about raw data processing. At the end, three csv files will be created, including \"station.csv\", \"demand_dock.csv\" and \"demand_bike.csv\". Please check the data structure and come up with any ideas about the data analysis. \n"
   ]
  },
  {
   "cell_type": "code",
   "execution_count": 1,
   "metadata": {},
   "outputs": [],
   "source": [
    "import pandas as pd\n",
    "import numpy as np\n",
    "%matplotlib inline"
   ]
  },
  {
   "cell_type": "code",
   "execution_count": 3,
   "metadata": {},
   "outputs": [],
   "source": [
    "#import the availability data\n",
    "years=range(2016,2018)\n",
    "months=np.matrix([[7,8,9,10,11,12], [1,2,3,4,5,6]])\n",
    "pieces=[]\n",
    "count=0\n",
    "for year in years:\n",
    "    for month in range(0,6):\n",
    "        path='rawdata/station-%d-%d.csv' %(year,months[count,month])\n",
    "        frame=pd.read_csv(path,sep=',')\n",
    "        pieces.append(frame)\n",
    "    count=count+1\n",
    "station=pd.concat(pieces, ignore_index=True)\n",
    "station=station.drop(['dock_name','_lat','_long'],axis=1)"
   ]
  },
  {
   "cell_type": "code",
   "execution_count": 4,
   "metadata": {},
   "outputs": [],
   "source": [
    "#change 12hr format to 24hr format\n",
    "pm_pos=(station.pm == 1) & (station.hour != 12)\n",
    "station.loc[pm_pos,'hour']=station.loc[pm_pos,'hour']+12\n",
    "am_12_pos=(station.pm == 0) & (station.hour == 12)\n",
    "station.loc[am_12_pos,'hour']=station.loc[am_12_pos,'hour']-12\n",
    "station=station.drop('pm', axis=1)\n"
   ]
  },
  {
   "cell_type": "code",
   "execution_count": 5,
   "metadata": {},
   "outputs": [
    {
     "data": {
      "text/html": [
       "<div>\n",
       "<style scoped>\n",
       "    .dataframe tbody tr th:only-of-type {\n",
       "        vertical-align: middle;\n",
       "    }\n",
       "\n",
       "    .dataframe tbody tr th {\n",
       "        vertical-align: top;\n",
       "    }\n",
       "\n",
       "    .dataframe thead th {\n",
       "        text-align: right;\n",
       "    }\n",
       "</style>\n",
       "<table border=\"1\" class=\"dataframe\">\n",
       "  <thead>\n",
       "    <tr style=\"text-align: right;\">\n",
       "      <th></th>\n",
       "      <th>dock_id</th>\n",
       "      <th>date</th>\n",
       "      <th>hour</th>\n",
       "      <th>minute</th>\n",
       "      <th>avail_bikes</th>\n",
       "      <th>avail_docks</th>\n",
       "      <th>tot_docks</th>\n",
       "      <th>in_service</th>\n",
       "      <th>status_key</th>\n",
       "    </tr>\n",
       "  </thead>\n",
       "  <tbody>\n",
       "    <tr>\n",
       "      <th>0</th>\n",
       "      <td>72</td>\n",
       "      <td>16-07-01</td>\n",
       "      <td>1</td>\n",
       "      <td>0</td>\n",
       "      <td>19</td>\n",
       "      <td>19</td>\n",
       "      <td>39</td>\n",
       "      <td>1</td>\n",
       "      <td>1</td>\n",
       "    </tr>\n",
       "    <tr>\n",
       "      <th>1</th>\n",
       "      <td>72</td>\n",
       "      <td>16-07-01</td>\n",
       "      <td>1</td>\n",
       "      <td>29</td>\n",
       "      <td>19</td>\n",
       "      <td>19</td>\n",
       "      <td>39</td>\n",
       "      <td>1</td>\n",
       "      <td>1</td>\n",
       "    </tr>\n",
       "    <tr>\n",
       "      <th>2</th>\n",
       "      <td>72</td>\n",
       "      <td>16-07-01</td>\n",
       "      <td>1</td>\n",
       "      <td>59</td>\n",
       "      <td>19</td>\n",
       "      <td>19</td>\n",
       "      <td>39</td>\n",
       "      <td>1</td>\n",
       "      <td>1</td>\n",
       "    </tr>\n",
       "    <tr>\n",
       "      <th>3</th>\n",
       "      <td>72</td>\n",
       "      <td>16-07-01</td>\n",
       "      <td>2</td>\n",
       "      <td>29</td>\n",
       "      <td>19</td>\n",
       "      <td>19</td>\n",
       "      <td>39</td>\n",
       "      <td>1</td>\n",
       "      <td>1</td>\n",
       "    </tr>\n",
       "    <tr>\n",
       "      <th>4</th>\n",
       "      <td>72</td>\n",
       "      <td>16-07-01</td>\n",
       "      <td>2</td>\n",
       "      <td>58</td>\n",
       "      <td>20</td>\n",
       "      <td>18</td>\n",
       "      <td>39</td>\n",
       "      <td>1</td>\n",
       "      <td>1</td>\n",
       "    </tr>\n",
       "  </tbody>\n",
       "</table>\n",
       "</div>"
      ],
      "text/plain": [
       "   dock_id      date  hour  minute  avail_bikes  avail_docks  tot_docks  \\\n",
       "0       72  16-07-01     1       0           19           19         39   \n",
       "1       72  16-07-01     1      29           19           19         39   \n",
       "2       72  16-07-01     1      59           19           19         39   \n",
       "3       72  16-07-01     2      29           19           19         39   \n",
       "4       72  16-07-01     2      58           20           18         39   \n",
       "\n",
       "   in_service  status_key  \n",
       "0           1           1  \n",
       "1           1           1  \n",
       "2           1           1  \n",
       "3           1           1  \n",
       "4           1           1  "
      ]
     },
     "execution_count": 5,
     "metadata": {},
     "output_type": "execute_result"
    }
   ],
   "source": [
    "station.head()"
   ]
  },
  {
   "cell_type": "code",
   "execution_count": 7,
   "metadata": {},
   "outputs": [],
   "source": [
    "years=range(2016,2018)\n",
    "months=np.matrix([[7,8,9,10,11,12], [1,2,3,4,5,6]])\n",
    "pieces=[]\n",
    "count=0\n",
    "for year in years:\n",
    "    for month in range(0,6):\n",
    "        path='rawdata/trip-%d-%d.zip' %(year,months[count,month])\n",
    "        frame=pd.read_csv(path,sep=',',compression='zip')\n",
    "        pieces.append(frame)\n",
    "    count=count+1\n",
    "trip=pd.concat(pieces, ignore_index=True)"
   ]
  },
  {
   "cell_type": "code",
   "execution_count": 9,
   "metadata": {},
   "outputs": [
    {
     "name": "stderr",
     "output_type": "stream",
     "text": [
      "D:\\anaconda3\\lib\\site-packages\\ipykernel_launcher.py:5: SettingWithCopyWarning: \n",
      "A value is trying to be set on a copy of a slice from a DataFrame.\n",
      "Try using .loc[row_indexer,col_indexer] = value instead\n",
      "\n",
      "See the caveats in the documentation: http://pandas.pydata.org/pandas-docs/stable/indexing.html#indexing-view-versus-copy\n",
      "  \"\"\"\n",
      "D:\\anaconda3\\lib\\site-packages\\ipykernel_launcher.py:6: SettingWithCopyWarning: \n",
      "A value is trying to be set on a copy of a slice from a DataFrame.\n",
      "Try using .loc[row_indexer,col_indexer] = value instead\n",
      "\n",
      "See the caveats in the documentation: http://pandas.pydata.org/pandas-docs/stable/indexing.html#indexing-view-versus-copy\n",
      "  \n"
     ]
    }
   ],
   "source": [
    "#demand of bike is indicated by the start station/time of trips\n",
    "date=pd.to_datetime(trip['Start Time'].values)\n",
    "trip['date']=date.strftime('%Y-%m-%d')\n",
    "demand_bike=trip[['Start Station ID','date']]\n",
    "demand_bike['hour']=date.hour\n",
    "demand_bike['minute']=date.minute"
   ]
  },
  {
   "cell_type": "code",
   "execution_count": 10,
   "metadata": {},
   "outputs": [
    {
     "name": "stderr",
     "output_type": "stream",
     "text": [
      "D:\\anaconda3\\lib\\site-packages\\ipykernel_launcher.py:5: SettingWithCopyWarning: \n",
      "A value is trying to be set on a copy of a slice from a DataFrame.\n",
      "Try using .loc[row_indexer,col_indexer] = value instead\n",
      "\n",
      "See the caveats in the documentation: http://pandas.pydata.org/pandas-docs/stable/indexing.html#indexing-view-versus-copy\n",
      "  \"\"\"\n",
      "D:\\anaconda3\\lib\\site-packages\\ipykernel_launcher.py:6: SettingWithCopyWarning: \n",
      "A value is trying to be set on a copy of a slice from a DataFrame.\n",
      "Try using .loc[row_indexer,col_indexer] = value instead\n",
      "\n",
      "See the caveats in the documentation: http://pandas.pydata.org/pandas-docs/stable/indexing.html#indexing-view-versus-copy\n",
      "  \n"
     ]
    }
   ],
   "source": [
    "#demand of docks is indicated by the end station/time of trips\n",
    "date=pd.to_datetime(trip['Stop Time'].values)\n",
    "trip['date']=date.strftime('%Y-%m-%d')\n",
    "demand_dock=trip[['End Station ID','date']]\n",
    "demand_dock['hour']=date.hour\n",
    "demand_dock['minute']=date.minute"
   ]
  },
  {
   "cell_type": "code",
   "execution_count": 11,
   "metadata": {},
   "outputs": [],
   "source": [
    "#save the result to a csv file. After run these two lines, you will see two files created in your folder\n",
    "demand_dock.to_csv('demand_dock.csv')\n",
    "demand_bike.to_csv('demand_bike.csv')\n",
    "station.to_csv('station.csv')"
   ]
  }
 ],
 "metadata": {
  "kernelspec": {
   "display_name": "Python 3",
   "language": "python",
   "name": "python3"
  },
  "language_info": {
   "codemirror_mode": {
    "name": "ipython",
    "version": 3
   },
   "file_extension": ".py",
   "mimetype": "text/x-python",
   "name": "python",
   "nbconvert_exporter": "python",
   "pygments_lexer": "ipython3",
   "version": "3.7.0"
  }
 },
 "nbformat": 4,
 "nbformat_minor": 2
}
